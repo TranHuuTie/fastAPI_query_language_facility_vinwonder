{
 "cells": [
  {
   "cell_type": "code",
   "execution_count": 1,
   "metadata": {},
   "outputs": [
    {
     "data": {
      "text/plain": [
       "array(['VinWonders Nha Trang', 'VinWonders Cửa Hội',\n",
       "       'Vinpearl Harbour Nha Trang', 'Công viên Grand Park',\n",
       "       'VinWonders Wave Park & Water Park', 'VinKE & Aquarium Times City',\n",
       "       'VinWonders Nam Hội An', 'Grand World Phú Quốc',\n",
       "       'VinWonders Phú Quốc', 'Vinpearl Safari Phú Quốc',\n",
       "       'Tắm bùn Hòn Tằm'], dtype=object)"
      ]
     },
     "execution_count": 1,
     "metadata": {},
     "output_type": "execute_result"
    }
   ],
   "source": [
    "import pandas as pd\n",
    "\n",
    "# Load dữ liệu từ file Excel\n",
    "df = pd.read_excel(\"/home/tiennh/FastAPI_product_vinwonder/Data_product_vinwonder.xlsx\", engine=\"openpyxl\")\n",
    "\n",
    "# Lấy các giá trị unique của trường 'facility'\n",
    "unique_facilities = df['facility'].unique()\n",
    "unique_facilities\n"
   ]
  }
 ],
 "metadata": {
  "kernelspec": {
   "display_name": "Python 3",
   "language": "python",
   "name": "python3"
  },
  "language_info": {
   "codemirror_mode": {
    "name": "ipython",
    "version": 3
   },
   "file_extension": ".py",
   "mimetype": "text/x-python",
   "name": "python",
   "nbconvert_exporter": "python",
   "pygments_lexer": "ipython3",
   "version": "3.9.21"
  }
 },
 "nbformat": 4,
 "nbformat_minor": 2
}
